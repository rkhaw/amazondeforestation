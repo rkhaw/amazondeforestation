{
 "cells": [
  {
   "cell_type": "code",
   "execution_count": 1,
   "id": "015257bd",
   "metadata": {},
   "outputs": [
    {
     "name": "stderr",
     "output_type": "stream",
     "text": [
      "C:\\Users\\rebek\\anaconda3\\envs\\envi5809\\Lib\\site-packages\\pyproj\\__init__.py:89: UserWarning: pyproj unable to set database path.\n",
      "  _pyproj_global_context_initialize()\n"
     ]
    }
   ],
   "source": [
    "import rasterio\n",
    "import xarray as xr\n",
    "\n",
    "\n",
    "import pandas as pd\n",
    "import numpy as np\n",
    "\n",
    "import matplotlib.pyplot as plt\n",
    "from  matplotlib.cm import ScalarMappable\n",
    "from  matplotlib.colors import ListedColormap, BoundaryNorm\n",
    "\n",
    "import cartopy.crs as ccrs\n",
    "import cartopy.feature as cfeature\n",
    "%matplotlib inline"
   ]
  },
  {
   "cell_type": "code",
   "execution_count": 3,
   "id": "15f20b41",
   "metadata": {},
   "outputs": [
    {
     "ename": "ModuleNotFoundError",
     "evalue": "No module named 'rasterio.mask'",
     "output_type": "error",
     "traceback": [
      "\u001b[1;31m---------------------------------------------------------------------------\u001b[0m",
      "\u001b[1;31mModuleNotFoundError\u001b[0m                       Traceback (most recent call last)",
      "Cell \u001b[1;32mIn[3], line 1\u001b[0m\n\u001b[1;32m----> 1\u001b[0m \u001b[38;5;28;01mimport\u001b[39;00m \u001b[38;5;21;01mrioxarray\u001b[39;00m \u001b[38;5;28;01mas\u001b[39;00m \u001b[38;5;21;01mrio\u001b[39;00m\n",
      "File \u001b[1;32m~\\anaconda3\\envs\\envi5809\\Lib\\site-packages\\rioxarray\\__init__.py:5\u001b[0m\n\u001b[0;32m      2\u001b[0m __author__ \u001b[38;5;241m=\u001b[39m \u001b[38;5;124m\"\"\"\u001b[39m\u001b[38;5;124mrioxarray Contributors\u001b[39m\u001b[38;5;124m\"\"\"\u001b[39m\n\u001b[0;32m      3\u001b[0m \u001b[38;5;28;01mimport\u001b[39;00m \u001b[38;5;21;01mimportlib\u001b[39;00m\u001b[38;5;21;01m.\u001b[39;00m\u001b[38;5;21;01mmetadata\u001b[39;00m\n\u001b[1;32m----> 5\u001b[0m \u001b[38;5;28;01mimport\u001b[39;00m \u001b[38;5;21;01mrioxarray\u001b[39;00m\u001b[38;5;21;01m.\u001b[39;00m\u001b[38;5;21;01mraster_array\u001b[39;00m  \u001b[38;5;66;03m# noqa\u001b[39;00m\n\u001b[0;32m      6\u001b[0m \u001b[38;5;28;01mimport\u001b[39;00m \u001b[38;5;21;01mrioxarray\u001b[39;00m\u001b[38;5;21;01m.\u001b[39;00m\u001b[38;5;21;01mraster_dataset\u001b[39;00m  \u001b[38;5;66;03m# noqa\u001b[39;00m\n\u001b[0;32m      7\u001b[0m \u001b[38;5;28;01mfrom\u001b[39;00m \u001b[38;5;21;01mrioxarray\u001b[39;00m\u001b[38;5;21;01m.\u001b[39;00m\u001b[38;5;21;01m_io\u001b[39;00m \u001b[38;5;28;01mimport\u001b[39;00m open_rasterio\n",
      "File \u001b[1;32m~\\anaconda3\\envs\\envi5809\\Lib\\site-packages\\rioxarray\\raster_array.py:20\u001b[0m\n\u001b[0;32m     18\u001b[0m \u001b[38;5;28;01mimport\u001b[39;00m \u001b[38;5;21;01mnumpy\u001b[39;00m\n\u001b[0;32m     19\u001b[0m \u001b[38;5;28;01mimport\u001b[39;00m \u001b[38;5;21;01mrasterio\u001b[39;00m\n\u001b[1;32m---> 20\u001b[0m \u001b[38;5;28;01mimport\u001b[39;00m \u001b[38;5;21;01mrasterio\u001b[39;00m\u001b[38;5;21;01m.\u001b[39;00m\u001b[38;5;21;01mmask\u001b[39;00m\n\u001b[0;32m     21\u001b[0m \u001b[38;5;28;01mimport\u001b[39;00m \u001b[38;5;21;01mrasterio\u001b[39;00m\u001b[38;5;21;01m.\u001b[39;00m\u001b[38;5;21;01mwarp\u001b[39;00m\n\u001b[0;32m     22\u001b[0m \u001b[38;5;28;01mimport\u001b[39;00m \u001b[38;5;21;01mxarray\u001b[39;00m\n",
      "\u001b[1;31mModuleNotFoundError\u001b[0m: No module named 'rasterio.mask'"
     ]
    }
   ],
   "source": [
    "import rioxarray as rio\n",
    "# from rasterio.plot import show\n",
    "# from rasterio.windows import from_bounds"
   ]
  },
  {
   "cell_type": "code",
   "execution_count": 7,
   "id": "e8ddf943",
   "metadata": {},
   "outputs": [
    {
     "name": "stdout",
     "output_type": "stream",
     "text": [
      "Note: you may need to restart the kernel to use updated packages.\n"
     ]
    },
    {
     "name": "stderr",
     "output_type": "stream",
     "text": [
      "ERROR: Could not find a version that satisfies the requirement rasterio.mask (from versions: none)\n",
      "ERROR: No matching distribution found for rasterio.mask\n"
     ]
    }
   ],
   "source": [
    "install rasterio"
   ]
  },
  {
   "cell_type": "code",
   "execution_count": null,
   "id": "5a938d92",
   "metadata": {},
   "outputs": [],
   "source": [
    "def vegetation_area_analysis(start_year,end_year,sample_site,site_x_origin,site_y_origin,site_size):\n",
    "\n",
    "    \n",
    "    \"\"\"\n",
    "    \n",
    "    This function creates an output of area calculations for each vegetation class for the sample site defined. \n",
    "    \n",
    "    start_year = first year to calculate areas for\n",
    "    end_year = final year to calculate areas for\n",
    "    sample_site = sample site name for file naming\n",
    "    site_x_origin = bottom left x-coordinate of sample site in geographic coordinates\n",
    "    site_y_origin = bottom left y-coordinate of sample site in geographic coordinates\n",
    "    site_size = size of sample site in geographic coordinates\n",
    "    \n",
    "    Datasources:\n",
    "    \n",
    "    1. The vegetation raster data is extracted from https://code.earthengine.google.com/?scriptPath=users%2Fmapbiomas%2Fuser-toolkit%3Amapbiomas-user-toolkit-lulc.js\n",
    "    2. Legend codes for vegetation classes were taken from https://s3.amazonaws.com/amazonia.mapbiomas.org/leyenda/C%C3%B3digo_de_la_Leyenda_-_colecci%C3%B3n_4.pdf\n",
    "    \n",
    "\n",
    "    \"\"\"\n",
    "    \n",
    "    year = start_year\n",
    "    \n",
    "    # Download the colour codes for vegetation classes - extract from a saved CSV file\n",
    "\n",
    "    colorCode = pd.read_csv('Colour Codes for Vegetation.csv')\n",
    "    colorCode.drop(columns=['ClassesBR'],inplace=True)\n",
    "    colorCode\n",
    "    \n",
    "    # Extract original colours\n",
    "    sortColor = colorCode.sort_values('ID')\n",
    "\n",
    "    vals = sortColor['ID'].values\n",
    "    cols = sortColor['HexCode'].values\n",
    "    bounds = np.append(vals, vals[-1] + 1)\n",
    "\n",
    "    cmap = ListedColormap(cols)\n",
    "    norm = BoundaryNorm(bounds, ncolors=len(cols))\n",
    "\n",
    "    \n",
    "    while year <= end_year:\n",
    "\n",
    "        #Loading in the dataset\n",
    "\n",
    "        ds = rio.open_rasterio(\"https://storage.googleapis.com/mapbiomas-public/initiatives/brasil/collection_8/lclu/coverage/brasil_coverage_\"+str(year)+\".tif\")\n",
    "\n",
    "\n",
    "        # Slice to the sample site\n",
    "\n",
    "        ds_clip = ds.sel(x=slice(site_x_origin,(site_x_origin + site_size)),y=slice((site_y_origin + site_size),site_y_origin)).isel(band=0)\n",
    "\n",
    "\n",
    "        # Counting the area for the each vegetation class\n",
    "\n",
    "        totalArea = 111**2 # in km2\n",
    "        totalPix = ds_clip.size # number on pixel for the clipped dataset\n",
    "\n",
    "        count = []\n",
    "        for k in range(len(colorCode)):\n",
    "            classID = colorCode['ID'].values[k]\n",
    "            count.append(ds_clip.where(ds_clip==classID).count().values+0)\n",
    "\n",
    "        colorCode['count'] = count\n",
    "        colorCode['perc'] = np.round(np.asarray(count)*100/totalPix,3)\n",
    "        colorCode[''+str(year)+''] = colorCode['perc'].values*totalArea/100.\n",
    "        vegAnalysis = colorCode.copy()\n",
    "        vegAnalysis.drop(columns=['HexCode'],inplace=True)\n",
    "        vegAnalysis\n",
    "\n",
    "        year += 1\n",
    "        \n",
    "\n",
    "    # Plot to csv\n",
    "    vegAnalysis.to_csv('vegetation_analysis_sample_site_'+str(sample_site)+'_'+str(start_year)+'-'+str(end_year)+'.csv',index=False)\n",
    "\n",
    "    return"
   ]
  },
  {
   "cell_type": "code",
   "execution_count": null,
   "id": "d0710990",
   "metadata": {},
   "outputs": [],
   "source": [
    "vegetation_area_analysis(2000,2022,'Control Site',-69,-3,2)"
   ]
  },
  {
   "cell_type": "code",
   "execution_count": null,
   "id": "4bd5bb13",
   "metadata": {},
   "outputs": [],
   "source": [
    "vegetation_area_analysis(2000,2022,'Sample Site 1',-48,-5,2)"
   ]
  },
  {
   "cell_type": "code",
   "execution_count": null,
   "id": "6230d02d",
   "metadata": {},
   "outputs": [],
   "source": [
    "vegetation_area_analysis(2000,2022,'Sample Site 2',-52,-4,2)"
   ]
  },
  {
   "cell_type": "code",
   "execution_count": null,
   "id": "be00c45b",
   "metadata": {},
   "outputs": [],
   "source": [
    "vegetation_area_analysis(2000,2022,'Sample Site 3',-65,-10,2)"
   ]
  },
  {
   "cell_type": "code",
   "execution_count": null,
   "id": "c6ffbdd7",
   "metadata": {},
   "outputs": [],
   "source": []
  },
  {
   "cell_type": "code",
   "execution_count": null,
   "id": "8f15cd7a",
   "metadata": {},
   "outputs": [],
   "source": [
    "\n"
   ]
  }
 ],
 "metadata": {
  "kernelspec": {
   "display_name": "Python 3 (ipykernel)",
   "language": "python",
   "name": "python3"
  },
  "language_info": {
   "codemirror_mode": {
    "name": "ipython",
    "version": 3
   },
   "file_extension": ".py",
   "mimetype": "text/x-python",
   "name": "python",
   "nbconvert_exporter": "python",
   "pygments_lexer": "ipython3",
   "version": "3.11.4"
  }
 },
 "nbformat": 4,
 "nbformat_minor": 5
}
